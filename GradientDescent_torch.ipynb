{
 "cells": [
  {
   "cell_type": "code",
   "execution_count": 2,
   "id": "studied-monroe",
   "metadata": {},
   "outputs": [],
   "source": [
    "import torch"
   ]
  },
  {
   "cell_type": "code",
   "execution_count": 3,
   "id": "green-leather",
   "metadata": {},
   "outputs": [],
   "source": [
    "# f= w*x"
   ]
  },
  {
   "cell_type": "code",
   "execution_count": 4,
   "id": "single-lodging",
   "metadata": {},
   "outputs": [],
   "source": [
    "#f = 2 *x\n",
    "\n",
    "X=torch.tensor([1,2,3,4],dtype=torch.float32)\n",
    "Y=torch.tensor([2,4,6,8],dtype=torch.float32)\n",
    "\n",
    "w=torch.tensor(0.0,dtype=torch.float32,requires_grad=True)"
   ]
  },
  {
   "cell_type": "code",
   "execution_count": 5,
   "id": "backed-college",
   "metadata": {},
   "outputs": [],
   "source": [
    "def forward(x):\n",
    "    return w*x"
   ]
  },
  {
   "cell_type": "code",
   "execution_count": 6,
   "id": "opponent-encyclopedia",
   "metadata": {},
   "outputs": [],
   "source": [
    "#loss = MSE\n",
    "def loss(y,y_predicted):\n",
    "    return ((y_predicted-y)**2).mean()"
   ]
  },
  {
   "cell_type": "code",
   "execution_count": 7,
   "id": "tropical-fitness",
   "metadata": {},
   "outputs": [
    {
     "name": "stdout",
     "output_type": "stream",
     "text": [
      "prediction before training f(5)= 0.000\n"
     ]
    }
   ],
   "source": [
    "print(f'prediction before training f(5)= {forward(5):.3f}')"
   ]
  },
  {
   "cell_type": "code",
   "execution_count": 11,
   "id": "south-hydrogen",
   "metadata": {},
   "outputs": [
    {
     "name": "stdout",
     "output_type": "stream",
     "text": [
      "1: w= 2.000, loss =  0.00000000\n",
      "11: w= 2.000, loss =  0.00000000\n",
      "21: w= 2.000, loss =  0.00000000\n",
      "31: w= 2.000, loss =  0.00000000\n",
      "41: w= 2.000, loss =  0.00000000\n",
      "51: w= 2.000, loss =  0.00000000\n",
      "61: w= 2.000, loss =  0.00000000\n",
      "71: w= 2.000, loss =  0.00000000\n",
      "81: w= 2.000, loss =  0.00000000\n",
      "91: w= 2.000, loss =  0.00000000\n",
      "prediction after training f(5)= 10.000\n"
     ]
    }
   ],
   "source": [
    "#training\n",
    "\n",
    "learning_rate = 0.01\n",
    "n_iters = 100\n",
    "\n",
    "\n",
    "for epoch in range(n_iters):\n",
    "    #prediction = forward pass\n",
    "    y_pred = forward(X)\n",
    "    \n",
    "    #loss\n",
    "    l=loss(Y,y_pred) #l/dw\n",
    "    \n",
    "    #gradients = backward\n",
    "    l.backward()\n",
    "    \n",
    "    #update weight\n",
    "    with torch.no_grad():\n",
    "        w-=learning_rate*w.grad\n",
    "        \n",
    "    #zero gradients\n",
    "    w.grad.zero_()\n",
    "    \n",
    "    \n",
    "    if epoch % 10 ==0:\n",
    "        print(f'{epoch+1}: w={w: .3f}, loss = {l: .8f}')\n",
    "\n",
    "print(f'prediction after training f(5)= {forward(5):.3f}')"
   ]
  },
  {
   "cell_type": "code",
   "execution_count": null,
   "id": "naked-powder",
   "metadata": {},
   "outputs": [],
   "source": []
  }
 ],
 "metadata": {
  "kernelspec": {
   "display_name": "Python 3",
   "language": "python",
   "name": "python3"
  },
  "language_info": {
   "codemirror_mode": {
    "name": "ipython",
    "version": 3
   },
   "file_extension": ".py",
   "mimetype": "text/x-python",
   "name": "python",
   "nbconvert_exporter": "python",
   "pygments_lexer": "ipython3",
   "version": "3.8.6"
  }
 },
 "nbformat": 4,
 "nbformat_minor": 5
}
