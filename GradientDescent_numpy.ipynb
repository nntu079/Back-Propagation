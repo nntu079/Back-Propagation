{
 "cells": [
  {
   "cell_type": "code",
   "execution_count": 2,
   "id": "studied-monroe",
   "metadata": {},
   "outputs": [],
   "source": [
    "import numpy as np"
   ]
  },
  {
   "cell_type": "code",
   "execution_count": 3,
   "id": "green-leather",
   "metadata": {},
   "outputs": [],
   "source": [
    "# f= w*x"
   ]
  },
  {
   "cell_type": "code",
   "execution_count": 9,
   "id": "single-lodging",
   "metadata": {},
   "outputs": [],
   "source": [
    "#f = 2 *x\n",
    "\n",
    "X=np.array([1,2,3,4],dtype=np.float32)\n",
    "Y=np.array([2,4,6,8],dtype=np.float32)\n",
    "\n",
    "w=0.0"
   ]
  },
  {
   "cell_type": "code",
   "execution_count": 5,
   "id": "backed-college",
   "metadata": {},
   "outputs": [],
   "source": [
    "def forward(x):\n",
    "    return w*x"
   ]
  },
  {
   "cell_type": "code",
   "execution_count": 6,
   "id": "opponent-encyclopedia",
   "metadata": {},
   "outputs": [],
   "source": [
    "#loss = MSE\n",
    "def loss(y,y_predicted):\n",
    "    return ((y_predicted-y)**2).mean()"
   ]
  },
  {
   "cell_type": "code",
   "execution_count": 7,
   "id": "tropical-fitness",
   "metadata": {},
   "outputs": [
    {
     "name": "stdout",
     "output_type": "stream",
     "text": [
      "prediction before training f(5)= 0.000\n"
     ]
    }
   ],
   "source": [
    "#gradient\n",
    "#MSE = 1/N * (w*x-y)**2\n",
    "#dJ/dw = 1/N 2x (w*x-y)\n",
    "def gradient(x,y,y_predicted):\n",
    "    return np.dot(2*x,y_predicted-y).mean()\n",
    "\n",
    "print(f'prediction before training f(5)= {forward(5):.3f}')"
   ]
  },
  {
   "cell_type": "code",
   "execution_count": 13,
   "id": "south-hydrogen",
   "metadata": {},
   "outputs": [
    {
     "name": "stdout",
     "output_type": "stream",
     "text": [
      "1: w= 2.000, loss =  0.00000033\n",
      "3: w= 2.000, loss =  0.00000001\n",
      "5: w= 2.000, loss =  0.00000000\n",
      "7: w= 2.000, loss =  0.00000000\n",
      "9: w= 2.000, loss =  0.00000000\n",
      "11: w= 2.000, loss =  0.00000000\n",
      "13: w= 2.000, loss =  0.00000000\n",
      "15: w= 2.000, loss =  0.00000000\n",
      "17: w= 2.000, loss =  0.00000000\n",
      "19: w= 2.000, loss =  0.00000000\n",
      "prediction after training f(5)= 10.000\n"
     ]
    }
   ],
   "source": [
    "#training\n",
    "\n",
    "learning_rate = 0.01\n",
    "n_iters = 20\n",
    "\n",
    "\n",
    "for epoch in range(n_iters):\n",
    "    #prediction = forward pass\n",
    "    y_pred = forward(X)\n",
    "    \n",
    "    #loss\n",
    "    l=loss(Y,y_pred)\n",
    "    \n",
    "    #gradients\n",
    "    dw=gradient(X,Y,y_pred)\n",
    "    \n",
    "    #update weight\n",
    "    w-=learning_rate*dw\n",
    "    \n",
    "    if epoch % 2 ==0:\n",
    "        print(f'{epoch+1}: w={w: .3f}, loss = {l: .8f}')\n",
    "\n",
    "print(f'prediction after training f(5)= {forward(5):.3f}')"
   ]
  },
  {
   "cell_type": "code",
   "execution_count": 1,
   "id": "naked-powder",
   "metadata": {},
   "outputs": [
    {
     "output_type": "execute_result",
     "data": {
      "text/plain": [
       "0.9393433500278241"
      ]
     },
     "metadata": {},
     "execution_count": 1
    }
   ],
   "source": [
    "from sklearn.datasets import load_digits\n",
    "from sklearn.linear_model import Perceptron\n",
    "X, y = load_digits(return_X_y=True)\n",
    "clf = Perceptron(tol=1e-3, random_state=0)\n",
    "clf.fit(X, y)\n",
    "\n",
    "clf.score(X, y)"
   ]
  },
  {
   "cell_type": "code",
   "execution_count": 2,
   "metadata": {},
   "outputs": [
    {
     "output_type": "execute_result",
     "data": {
      "text/plain": [
       "array([0])"
      ]
     },
     "metadata": {},
     "execution_count": 2
    }
   ],
   "source": [
    "clf.predict([X[0]])"
   ]
  }
 ],
 "metadata": {
  "kernelspec": {
   "display_name": "Python 3",
   "language": "python",
   "name": "python3"
  },
  "language_info": {
   "codemirror_mode": {
    "name": "ipython",
    "version": 3
   },
   "file_extension": ".py",
   "mimetype": "text/x-python",
   "name": "python",
   "nbconvert_exporter": "python",
   "pygments_lexer": "ipython3",
   "version": "3.8.6-final"
  }
 },
 "nbformat": 4,
 "nbformat_minor": 5
}