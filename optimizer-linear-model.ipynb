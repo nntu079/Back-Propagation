{
 "cells": [
  {
   "cell_type": "code",
   "execution_count": 42,
   "id": "floppy-judge",
   "metadata": {},
   "outputs": [],
   "source": [
    "# 1) Design model (input, out put, forward pass)\n",
    "# 2) Construct loss and optimizer\n",
    "# 3) Training loop\n",
    "#   -forward pass : compute prediction\n",
    "#   -backward pass : gradients\n",
    "#   -update weightes"
   ]
  },
  {
   "cell_type": "code",
   "execution_count": 43,
   "id": "outstanding-parliament",
   "metadata": {},
   "outputs": [],
   "source": [
    "import torch\n",
    "import torch.nn as nn"
   ]
  },
  {
   "cell_type": "code",
   "execution_count": 44,
   "id": "instrumental-jason",
   "metadata": {},
   "outputs": [
    {
     "name": "stdout",
     "output_type": "stream",
     "text": [
      "4 1\n"
     ]
    }
   ],
   "source": [
    "# f=2 *x\n",
    "X = torch.tensor([[1],[2],[3],[4]],dtype= torch.float32)\n",
    "Y = torch.tensor([[2],[4],[6],[8]],dtype= torch.float32)\n",
    "\n",
    "\n",
    "X_test = torch.tensor([5], dtype=torch.float32)\n",
    "\n",
    "n_samples, n_features = X.shape\n",
    "\n",
    "print(n_samples,n_features)"
   ]
  },
  {
   "cell_type": "code",
   "execution_count": 47,
   "id": "apparent-skill",
   "metadata": {},
   "outputs": [
    {
     "name": "stdout",
     "output_type": "stream",
     "text": [
      "Prediction before training: f(5) =  0.770\n"
     ]
    }
   ],
   "source": [
    "input_size=n_features\n",
    "output_size=n_features\n",
    "\n",
    "Linear = nn.Linear(input_size,output_size)\n",
    "\n",
    "class LinearRegression(nn.Module):\n",
    "    \n",
    "    def __init__(self,Linear):\n",
    "        super(LinearRegression,self).__init__()\n",
    "        self.lin=Linear\n",
    "        \n",
    "    def forward(self,x):\n",
    "        return self.lin(x)\n",
    "    \n",
    "model=LinearRegression(Linear)\n",
    "\n",
    "\n",
    "print(f'Prediction before training: f(5) = {model(X_test).item(): .3f}')"
   ]
  },
  {
   "cell_type": "code",
   "execution_count": 61,
   "id": "considered-brooklyn",
   "metadata": {},
   "outputs": [
    {
     "name": "stdout",
     "output_type": "stream",
     "text": [
      "1: w= 2.000, loss =  0.00000019\n",
      "11: w= 2.000, loss =  0.00000018\n",
      "21: w= 2.000, loss =  0.00000017\n",
      "31: w= 2.000, loss =  0.00000016\n",
      "41: w= 2.000, loss =  0.00000015\n",
      "51: w= 2.000, loss =  0.00000014\n",
      "61: w= 2.000, loss =  0.00000013\n",
      "71: w= 2.000, loss =  0.00000012\n",
      "81: w= 2.000, loss =  0.00000012\n",
      "91: w= 2.000, loss =  0.00000011\n",
      "prediction after training f(5)=  9.999\n"
     ]
    }
   ],
   "source": [
    "# Training\n",
    "learning_rate = 0.01\n",
    "n_iters = 100\n",
    "\n",
    "loss = nn.MSELoss()\n",
    "optimizer = torch.optim.SGD(model.parameters(),lr=learning_rate)\n",
    "\n",
    "\n",
    "for epoch in range(n_iters):\n",
    "    # prediction = forward pass\n",
    "    y_pred = model(X)\n",
    "    \n",
    "    # loss\n",
    "    l = loss(Y, y_pred)\n",
    "    \n",
    "    # gradients = backward pass\n",
    "    l.backward() #dl/dw\n",
    "    \n",
    "    # update weights\n",
    "    optimizer.step()\n",
    "    \n",
    "    # zero gradients\n",
    "    optimizer.zero_grad()\n",
    "        \n",
    "    if epoch % 10 ==0:\n",
    "        [w,b]=model.parameters()\n",
    "        print(f'{epoch+1}: w={w[0][0].item(): .3f}, loss = {l: .8f}')\n",
    "\n",
    "print(f'prediction after training f(5)= {model(X_test).item(): .3f}')"
   ]
  }
 ],
 "metadata": {
  "kernelspec": {
   "display_name": "Python 3",
   "language": "python",
   "name": "python3"
  },
  "language_info": {
   "codemirror_mode": {
    "name": "ipython",
    "version": 3
   },
   "file_extension": ".py",
   "mimetype": "text/x-python",
   "name": "python",
   "nbconvert_exporter": "python",
   "pygments_lexer": "ipython3",
   "version": "3.8.6"
  }
 },
 "nbformat": 4,
 "nbformat_minor": 5
}
